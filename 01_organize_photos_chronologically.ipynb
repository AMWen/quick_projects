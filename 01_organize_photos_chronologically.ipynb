{
 "cells": [
  {
   "attachments": {},
   "cell_type": "markdown",
   "metadata": {},
   "source": [
    "# Problem statement\n",
    "When on a recent vacation, hundreds of photos were taken by multiple people then shared through various messaging apps. The naming convention of the photos is inconsistent, and there is no EXIF timestamp metadata information for downloaded images. Since some photos were downloaded days after the event, organizing the photos chronologically is therefore not possible using the conventional methods of sorting by name or by date modified.\n",
    "\n",
    "This code attempts to rename and reorganize shortlisted photos in such a way that manual sorting is minimized. Photos were shortlisted using colored tags on Mac OS and presorted into folders labeled with the date taken. Some example photos and naming conventions can be found in the `img/` folder.\n",
    "\n",
    "The types of names of the photos were as follows:\n",
    "- `IMG_YYYYMMDD_hhmmss.jpg`: personal photos with time taken in local time in filename (also has EXIF timestamp data)\n",
    "- `PXL_YYYYMMDD_hhmmssmmm.jpg`: downloaded files with time taken in UTC time in filename (8 hours behind local time; no EXIF timestamp data)\n",
    "- `16###########.jpg`: downloaded files with time uploaded to messaging app in Unix time (including milliseconds) in filename (no EXIF timestamp data)\n",
    "\n",
    "# Strategy\n",
    "- Go folder by folder\n",
    "- Search for shortlisted photos using **`osxmetadata` for Mac OS tag information**\n",
    "- Estimate local time of photo based on the photo name and **create new name reflecting the local date and time**\n",
    "    - If the date does not match folder date, use the folder date and set the time to noon (manually review and estimate time later)\n",
    "- If satisifed with names, load images and **add local time taken as part of exif information** so other programs can sort using this information \n",
    "- Save all renamed files in `Final/` folder and order by new names"
   ]
  },
  {
   "attachments": {},
   "cell_type": "markdown",
   "metadata": {},
   "source": [
    "# Initial imports and variables"
   ]
  },
  {
   "cell_type": "code",
   "execution_count": 30,
   "metadata": {},
   "outputs": [],
   "source": [
    "import logging\n",
    "import os\n",
    "import shutil\n",
    "import piexif\n",
    "from datetime import datetime, timedelta\n",
    "from osxmetadata import OSXMetaData\n",
    "from PIL import Image, ExifTags\n",
    "from pprint import pprint\n",
    "\n",
    "IMG_FOLDER = 'img'\n",
    "FINAL_FOLDER = f'{IMG_FOLDER}/Final'\n",
    "TMP_FOLDER = f'{IMG_FOLDER}/tmp'\n",
    "EXAMPLE1 = f'{IMG_FOLDER}/20221121 objects/IMG_20221121_230114.jpg'\n",
    "EXAMPLE2 = f'{IMG_FOLDER}/20221125 scenery/PXL_20221125_040253498.jpg'\n",
    "EXAMPLE3 = f'{IMG_FOLDER}/20221122 food/1669256881625.jpg'\n",
    "EXAMPLE4 = f'{IMG_FOLDER}/20221125 scenery/IMG_20221125_135506.jpg'\n",
    "EXIF_DATETIME_TAG = 36867  # tag for date and time a photo was taken"
   ]
  },
  {
   "attachments": {},
   "cell_type": "markdown",
   "metadata": {},
   "source": [
    "# Exploration\n"
   ]
  },
  {
   "attachments": {},
   "cell_type": "markdown",
   "metadata": {},
   "source": [
    "## `PIL` and `piexif`\n",
    "Getting the date and time for when a image was taken only works for photos taken directly from the camera but not when downloaded. `pixeif` is a package that helps with saving images with exif information."
   ]
  },
  {
   "cell_type": "code",
   "execution_count": 2,
   "metadata": {},
   "outputs": [
    {
     "data": {
      "text/plain": [
       "{256: 1478,\n",
       " 257: 1108,\n",
       " 274: 1,\n",
       " 34665: 62,\n",
       " 37384: 0,\n",
       " 40961: 1,\n",
       " 40962: 1478,\n",
       " 40963: 1108}"
      ]
     },
     "execution_count": 2,
     "metadata": {},
     "output_type": "execute_result"
    }
   ],
   "source": [
    "# Example of what Exif data looks like without human readable tags\n",
    "image_exif = Image.open(EXAMPLE3)._getexif()\n",
    "image_exif"
   ]
  },
  {
   "cell_type": "code",
   "execution_count": 3,
   "metadata": {},
   "outputs": [
    {
     "name": "stdout",
     "output_type": "stream",
     "text": [
      "{'ApertureValue': 1.61,\n",
      " 'BrightnessValue': 0.0,\n",
      " 'ColorSpace': 1,\n",
      " 'DateTime': '2022:11:21 22:01:14',\n",
      " 'DateTimeDigitized': '2022:11:21 22:01:14',\n",
      " 'DateTimeOriginal': '2022:11:21 22:01:14',\n",
      " 'ExifImageHeight': 3000,\n",
      " 'ExifImageWidth': 4000,\n",
      " 'ExifInteroperabilityOffset': 700,\n",
      " 'ExifOffset': 197,\n",
      " 'ExposureBiasValue': nan,\n",
      " 'ExposureMode': 0,\n",
      " 'ExposureProgram': 0,\n",
      " 'ExposureTime': 0.01}\n",
      "Date img/20221121 objects/IMG_20221121_230114.jpg was taken: 2022-11-21 22:01:14\n",
      "\n",
      "{}\n",
      "Unable to get date from exif for img/20221125 scenery/PXL_20221125_040253498.jpg\n",
      "\n",
      "{'ColorSpace': 1,\n",
      " 'ExifImageHeight': 1108,\n",
      " 'ExifImageWidth': 1478,\n",
      " 'ExifOffset': 62}\n",
      "Unable to get date from exif for img/20221122 food/1669256881625.jpg\n",
      "\n"
     ]
    }
   ],
   "source": [
    "# Quick function to get exif data from photos with human readable tags\n",
    "def get_exif_info(filename):\n",
    "    image_exif = Image.open(filename)._getexif()\n",
    "    try:\n",
    "        # Make a map with tag names\n",
    "        exif = { ExifTags.TAGS[k]: v for k, v in image_exif.items() if k in ExifTags.TAGS and type(v) is not bytes \n",
    "        and ExifTags.TAGS[k] < 'F'}\n",
    "        pprint(exif)\n",
    "\n",
    "        # Grab the date\n",
    "        date_obj = datetime.strptime(exif.get('DateTimeOriginal'), '%Y:%m:%d %H:%M:%S')\n",
    "        print(f'Date {filename} was taken: {date_obj}\\n')\n",
    "    except:\n",
    "        print(f'Unable to get date from exif for {filename}\\n')\n",
    "\n",
    "# Note that only the example named IMG_... has DateTime information\n",
    "get_exif_info(EXAMPLE1)\n",
    "get_exif_info(EXAMPLE2)\n",
    "get_exif_info(EXAMPLE3)"
   ]
  },
  {
   "cell_type": "code",
   "execution_count": 4,
   "metadata": {},
   "outputs": [],
   "source": [
    "# Quick method to save an image with new DateTime information\n",
    "# Create empty exif dictionary\n",
    "empty_exif_dict = {'Exif': {}}\n",
    "\n",
    "# Open an image file\n",
    "im = Image.open(EXAMPLE1)\n",
    "exif_dict = piexif.load(im.info[\"exif\"])\n",
    "\n",
    "# Create new dict only with date and time information\n",
    "new_exif_dict = empty_exif_dict.copy()\n",
    "new_exif_dict['Exif'][EXIF_DATETIME_TAG] = exif_dict['Exif'].get(EXIF_DATETIME_TAG)\n",
    "exif_bytes = piexif.dump(new_exif_dict)\n",
    "\n",
    "# Create final folder if it does not exist\n",
    "if not os.path.exists(FINAL_FOLDER):\n",
    "   os.makedirs(FINAL_FOLDER)\n",
    "\n",
    "# Save a copy of the image file with the new exif dictionary information\n",
    "im.save(f\"{FINAL_FOLDER}/test.jpg\", \"jpeg\", exif=exif_bytes, quality=100, subsampling=0)"
   ]
  },
  {
   "attachments": {},
   "cell_type": "markdown",
   "metadata": {},
   "source": [
    "## `osxmetdata`"
   ]
  },
  {
   "cell_type": "code",
   "execution_count": 5,
   "metadata": {},
   "outputs": [
    {
     "data": {
      "text/plain": [
       "[[Tag(name='Green', color=2)],\n",
       " [Tag(name='Blue', color=4)],\n",
       " [Tag(name='Green', color=2)],\n",
       " []]"
      ]
     },
     "execution_count": 5,
     "metadata": {},
     "output_type": "execute_result"
    }
   ],
   "source": [
    "# Quick function to check whether file has MacOS tags\n",
    "def get_tag_info(filenames):\n",
    "    tags = []\n",
    "    for file in filenames:\n",
    "        md = OSXMetaData(file)\n",
    "        tags.append(md.tags)\n",
    "    return tags\n",
    "\n",
    "get_tag_info([EXAMPLE1, EXAMPLE2, EXAMPLE3, EXAMPLE4])"
   ]
  },
  {
   "attachments": {},
   "cell_type": "markdown",
   "metadata": {},
   "source": [
    "# Solution"
   ]
  },
  {
   "cell_type": "code",
   "execution_count": null,
   "metadata": {},
   "outputs": [],
   "source": [
    "# Initialize folders\n",
    "if not os.path.exists(TMP_FOLDER):\n",
    "    os.makedirs(TMP_FOLDER)\n",
    "\n",
    "if not os.path.exists(FINAL_FOLDER):\n",
    "    os.makedirs(FINAL_FOLDER)"
   ]
  },
  {
   "cell_type": "code",
   "execution_count": 56,
   "metadata": {},
   "outputs": [],
   "source": [
    "# Get list of subfolders\n",
    "subfolders = [ f.path for f in os.scandir(IMG_FOLDER) if f.is_dir() and FINAL_FOLDER not in f.path]\n",
    "\n",
    "# Go folder by folder\n",
    "for subfolder in subfolders:\n",
    "    current_date = subfolder.split(IMG_FOLDER)[1].replace('/', '')[:8]  # assumes first 8 characters of subdirectory is the date\n",
    "\n",
    "    # Search for shortlisted photos using `osxmetadata` for Mac OS tag information\n",
    "    photos = [ f for f in os.scandir(subfolder) if '.jpg' in f.name and OSXMetaData(f).tags ]\n",
    "\n",
    "    # Estimate local time of photo based on the photo name and create new name reflecting the local date and time\n",
    "    for photo in photos:\n",
    "        utc_time = None\n",
    "\n",
    "        # IMG_ files can use name directly\n",
    "        if photo.name[:3] == 'IMG':\n",
    "            new_name = photo.name\n",
    "\n",
    "        # PXL_ files need to convert UTC to local time\n",
    "        elif photo.name[:3] == 'PXL':\n",
    "            utc_str = photo.name[4:19]\n",
    "            utc_time = datetime.strptime(utc_str, '%Y%m%d_%H%M%S')\n",
    "        \n",
    "        # 16## files need to convert Unix to local time\n",
    "        elif photo.name[:2] == '16':\n",
    "            unix_ts = int(photo.name[:13])/1000\n",
    "            utc_time = datetime.utcfromtimestamp(unix_ts)\n",
    "    \n",
    "        else:\n",
    "            new_name = None\n",
    "            logging.warning(f'{photo.name} is not one of the known file naming schemes')\n",
    "\n",
    "        if utc_time:\n",
    "            local_time = utc_time + timedelta(hours=8)\n",
    "            new_name = local_time.strftime('IMG_%Y%m%d_%H%M%S.jpg')\n",
    "\n",
    "            # If the date does not match folder date, use the folder date and set the time to noon\n",
    "            if local_time.strftime('%Y%m%d') != current_date:\n",
    "                new_name = local_time.strftime(f'IMG_{current_date}_120000_{photo.name}')\n",
    "\n",
    "        # Save the files using new names temporarily for review\n",
    "        shutil.copy(photo.path, f'{TMP_FOLDER}/{new_name}')\n",
    "\n",
    "    # For own purposes, directly move shortlisted videos over\n",
    "    videos = [ f for f in os.scandir(subfolder) if 'VID_' in f.name and OSXMetaData(f).tags ]\n",
    "\n",
    "    for video in videos:\n",
    "        shutil.copy(video.path, f'{FINAL_FOLDER}/')"
   ]
  },
  {
   "cell_type": "code",
   "execution_count": 54,
   "metadata": {},
   "outputs": [],
   "source": [
    "photos = [ f for f in os.scandir(TMP_FOLDER) if '.jpg' in f.name ]\n",
    "\n",
    "for photo in photos:\n",
    "    # If satisifed with names in tmp folder, load images and add local time taken as part of exif information\n",
    "    im = Image.open(photo.path)\n",
    "    exif_dict = piexif.load(im.info[\"exif\"])\n",
    "\n",
    "    try:\n",
    "        exif_dict = piexif.load(im.info.get(\"exif\"))\n",
    "    except TypeError:\n",
    "        # logging.warning(f'Exif information does not exist for photo {photo.name}')\n",
    "        exif_dict = {'Exif': {}}\n",
    "\n",
    "    local_str = photo.name[4:19]\n",
    "    local_time = datetime.strptime(local_str, '%Y%m%d_%H%M%S')\n",
    "    local_time_bytestr = f'{local_time.strftime(\"%Y:%m:%d %H:%M:%S\")}'.encode()\n",
    "\n",
    "    # If datetime information does not exist, add information to exif dict\n",
    "    if not exif_dict.get('Exif').get(EXIF_DATETIME_TAG):\n",
    "        exif_dict.get('Exif')[EXIF_DATETIME_TAG] = local_time_bytestr\n",
    "        exif_bytes = piexif.dump(exif_dict)\n",
    "        \n",
    "        im.save(photo.path, \"jpeg\", exif=exif_bytes, quality=100, subsampling=0)\n",
    "    \n",
    "    # Move the file over\n",
    "    shutil.move(photo.path, f'{FINAL_FOLDER}/')"
   ]
  },
  {
   "cell_type": "code",
   "execution_count": 55,
   "metadata": {},
   "outputs": [
    {
     "name": "stdout",
     "output_type": "stream",
     "text": [
      "IMG_20221122_135646.jpg\n",
      "b'2022:11:22 13:56:46'\n",
      "IMG_20221125_134449.jpg\n",
      "b'2022:11:25 13:44:49'\n",
      "IMG_20221122_120000_1669256881625.jpg\n",
      "b'2022:11:22 12:00:00'\n",
      "IMG_20221121_230114.jpg\n",
      "b'2022:11:21 22:01:14'\n",
      "IMG_20221122_120000_1670823782713.jpg\n",
      "b'2022:11:22 12:00:00'\n",
      "IMG_20221125_120253.jpg\n",
      "b'2022:11:25 12:02:53'\n",
      "test.jpg\n",
      "b'2022:11:21 22:01:14'\n"
     ]
    }
   ],
   "source": [
    "photos = [ f for f in os.scandir(FINAL_FOLDER) if '.jpg' in f.name ]\n",
    "\n",
    "for photo in photos:\n",
    "    print(photo.name)\n",
    "    # If satisifed with names in tmp folder, load images and add local time taken as part of exif information\n",
    "    im = Image.open(photo.path)\n",
    "    exif_dict = piexif.load(im.info[\"exif\"])\n",
    "\n",
    "    if exif_dict.get('Exif').get(EXIF_DATETIME_TAG):\n",
    "        print(exif_dict.get('Exif')[EXIF_DATETIME_TAG])\n",
    "    \n",
    "\n",
    "    else:\n",
    "        print('error')"
   ]
  },
  {
   "cell_type": "code",
   "execution_count": null,
   "metadata": {},
   "outputs": [],
   "source": []
  }
 ],
 "metadata": {
  "kernelspec": {
   "display_name": "venv",
   "language": "python",
   "name": "python3"
  },
  "language_info": {
   "codemirror_mode": {
    "name": "ipython",
    "version": 3
   },
   "file_extension": ".py",
   "mimetype": "text/x-python",
   "name": "python",
   "nbconvert_exporter": "python",
   "pygments_lexer": "ipython3",
   "version": "3.9.12 (main, May  3 2022, 00:51:01) \n[Clang 10.0.1 (clang-1001.0.46.4)]"
  },
  "orig_nbformat": 4,
  "vscode": {
   "interpreter": {
    "hash": "d73020669dee12ff2aadbafa612123dc9357f4d64d76f6ad0e5c5510a66668f4"
   }
  }
 },
 "nbformat": 4,
 "nbformat_minor": 2
}
